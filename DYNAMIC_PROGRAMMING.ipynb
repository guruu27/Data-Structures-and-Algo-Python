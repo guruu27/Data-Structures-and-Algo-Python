{
  "metadata": {
    "kernelspec": {
      "name": "python",
      "display_name": "Python (Pyodide)",
      "language": "python"
    },
    "language_info": {
      "codemirror_mode": {
        "name": "python",
        "version": 3
      },
      "file_extension": ".py",
      "mimetype": "text/x-python",
      "name": "python",
      "nbconvert_exporter": "python",
      "pygments_lexer": "ipython3",
      "version": "3.8"
    },
    "colab": {
      "provenance": [],
      "include_colab_link": true
    }
  },
  "nbformat_minor": 0,
  "nbformat": 4,
  "cells": [
    {
      "cell_type": "markdown",
      "metadata": {
        "id": "view-in-github",
        "colab_type": "text"
      },
      "source": [
        "<a href=\"https://colab.research.google.com/github/guruu27/Data-Structures-and-Algo-Python/blob/main/DYNAMIC_PROGRAMMING.ipynb\" target=\"_parent\"><img src=\"https://colab.research.google.com/assets/colab-badge.svg\" alt=\"Open In Colab\"/></a>"
      ]
    },
    {
      "cell_type": "markdown",
      "source": [
        "# DYNAMIC PROGRAMMING"
      ],
      "metadata": {
        "id": "ZLvtf7qrUILa"
      }
    },
    {
      "cell_type": "markdown",
      "source": [
        "### MEMOIZATION"
      ],
      "metadata": {
        "id": "JfaM3rnxUILd"
      }
    },
    {
      "cell_type": "code",
      "source": [
        "# fibo using memoization\n",
        "\n",
        "h = { 0 : 1, 1 : 1 }\n",
        "\n",
        "def fibo(n):\n",
        "    if n in h:\n",
        "        return h[n]\n",
        "    h[n] = fibo(n-1) + fibo(n-2)\n",
        "    return h[n]\n",
        "\n",
        "print(fibo(15))"
      ],
      "metadata": {
        "trusted": true,
        "id": "S0aUUzmZUILd",
        "outputId": "9f27c222-3d5b-405b-d72e-7db3d6197337",
        "colab": {
          "base_uri": "https://localhost:8080/"
        }
      },
      "outputs": [
        {
          "output_type": "stream",
          "name": "stdout",
          "text": [
            "987\n"
          ]
        }
      ],
      "execution_count": null
    },
    {
      "cell_type": "code",
      "source": [
        "# Grid Traveler\n",
        "h={}\n",
        "def gridtraveler(m,n):\n",
        "    if (m,n) in h:\n",
        "        return h[m,n]\n",
        "    if m==1 and n ==1:\n",
        "        return 1\n",
        "    if m==0 or n==0:\n",
        "        return 0\n",
        "    h[m,n] = gridtraveler(m-1 ,n) + gridtraveler(m,n-1)\n",
        "    return h[m,n]\n",
        "\n",
        "gridtraveler(18,18)"
      ],
      "metadata": {
        "trusted": true,
        "id": "Lz38PN2NUILf",
        "outputId": "c22e0103-c5a3-4ca4-ff5f-0bfc86d7f1d0",
        "colab": {
          "base_uri": "https://localhost:8080/"
        }
      },
      "outputs": [
        {
          "output_type": "execute_result",
          "data": {
            "text/plain": [
              "2333606220"
            ]
          },
          "metadata": {},
          "execution_count": 2
        }
      ],
      "execution_count": null
    },
    {
      "cell_type": "code",
      "source": [
        "#Cansum\n",
        "#Recursion\n",
        "def cansum(target,l1):\n",
        "    if target == 0:\n",
        "        return True\n",
        "    if target < 0:\n",
        "        return False\n",
        "    for i in l1:\n",
        "        rem = target - i\n",
        "        if cansum(rem,l1) == True:\n",
        "            return True\n",
        "    return False\n",
        "\n",
        "print(cansum(7,[2,4]))\n"
      ],
      "metadata": {
        "trusted": true,
        "id": "krpdCwTrUILf",
        "outputId": "d959a469-8810-4f85-b247-f7c99daed640",
        "colab": {
          "base_uri": "https://localhost:8080/"
        }
      },
      "outputs": [
        {
          "output_type": "stream",
          "name": "stdout",
          "text": [
            "False\n"
          ]
        }
      ],
      "execution_count": null
    },
    {
      "cell_type": "code",
      "source": [
        "#Recursion + DP\n",
        "h={}\n",
        "\n",
        "def cansum(target,l1):\n",
        "    if (target,tuple(l1)) in h:\n",
        "        return h[target,tuple(l1)]\n",
        "    if target == 0:\n",
        "        return True\n",
        "    if target < 0:\n",
        "        return False\n",
        "    for i in l1:\n",
        "        rem = target - i\n",
        "        h[rem,tuple(l1)] = cansum(rem,l1)\n",
        "        if h[rem,tuple(l1)] == True:\n",
        "            return True\n",
        "    return False\n",
        "\n",
        "print(cansum(7,[2,3,4]))\n"
      ],
      "metadata": {
        "trusted": true,
        "id": "TkDsblA3UILg",
        "outputId": "84a24883-13cf-43de-9e0d-c2247852e077",
        "colab": {
          "base_uri": "https://localhost:8080/"
        }
      },
      "outputs": [
        {
          "output_type": "stream",
          "name": "stdout",
          "text": [
            "True\n"
          ]
        }
      ],
      "execution_count": null
    },
    {
      "cell_type": "code",
      "source": [
        "#HowSum\n",
        "\n",
        "#Recursion\n",
        "def HowSum(target,l1):\n",
        "\n",
        "    if target == 0:\n",
        "        return []\n",
        "    if target < 0:\n",
        "        return None\n",
        "    for i in l1:\n",
        "        rem = target - i\n",
        "        remres= HowSum(rem,l1)\n",
        "        if remres is not None:\n",
        "            return [*remres, i]\n",
        "    return None\n",
        "\n",
        "l1 = [2,3,4]\n",
        "target = 300\n",
        "res = HowSum(target,l1)\n",
        "print(res)\n"
      ],
      "metadata": {
        "trusted": true,
        "id": "073kYNNNUILg",
        "outputId": "59e525cc-a748-4f60-fde4-504669ce11a4",
        "colab": {
          "base_uri": "https://localhost:8080/"
        }
      },
      "outputs": [
        {
          "output_type": "stream",
          "name": "stdout",
          "text": [
            "[2, 2, 2, 2, 2, 2, 2, 2, 2, 2, 2, 2, 2, 2, 2, 2, 2, 2, 2, 2, 2, 2, 2, 2, 2, 2, 2, 2, 2, 2, 2, 2, 2, 2, 2, 2, 2, 2, 2, 2, 2, 2, 2, 2, 2, 2, 2, 2, 2, 2, 2, 2, 2, 2, 2, 2, 2, 2, 2, 2, 2, 2, 2, 2, 2, 2, 2, 2, 2, 2, 2, 2, 2, 2, 2, 2, 2, 2, 2, 2, 2, 2, 2, 2, 2, 2, 2, 2, 2, 2, 2, 2, 2, 2, 2, 2, 2, 2, 2, 2, 2, 2, 2, 2, 2, 2, 2, 2, 2, 2, 2, 2, 2, 2, 2, 2, 2, 2, 2, 2, 2, 2, 2, 2, 2, 2, 2, 2, 2, 2, 2, 2, 2, 2, 2, 2, 2, 2, 2, 2, 2, 2, 2, 2, 2, 2, 2, 2, 2, 2]\n"
          ]
        }
      ],
      "execution_count": null
    },
    {
      "cell_type": "code",
      "source": [
        "#HowSum\n",
        "\n",
        "#DP\n",
        "h ={}\n",
        "def HowSum(target,l1):\n",
        "    if (target,tuple(l1)) in h:\n",
        "        return h[target,tuple(l1)]\n",
        "    if target == 0:\n",
        "        return []\n",
        "    if target < 0:\n",
        "        return None\n",
        "    for i in l1:\n",
        "        rem = target - i\n",
        "        remres= HowSum(rem,l1)\n",
        "        if remres is not None:\n",
        "            h[target,tuple(l1)] = [*remres, i]\n",
        "            return h[target,tuple(l1)]\n",
        "    h[target,tuple(l1)] = None\n",
        "    return None\n",
        "\n",
        "l1 = [20,3,4]\n",
        "target = 3000\n",
        "res = HowSum(target,l1)\n",
        "print(res)\n"
      ],
      "metadata": {
        "trusted": true,
        "id": "CgHm6BTRUILh",
        "outputId": "91e9345e-d689-4ca4-aa78-d6f649bbdc04",
        "colab": {
          "base_uri": "https://localhost:8080/"
        }
      },
      "outputs": [
        {
          "output_type": "stream",
          "name": "stdout",
          "text": [
            "[20, 20, 20, 20, 20, 20, 20, 20, 20, 20, 20, 20, 20, 20, 20, 20, 20, 20, 20, 20, 20, 20, 20, 20, 20, 20, 20, 20, 20, 20, 20, 20, 20, 20, 20, 20, 20, 20, 20, 20, 20, 20, 20, 20, 20, 20, 20, 20, 20, 20, 20, 20, 20, 20, 20, 20, 20, 20, 20, 20, 20, 20, 20, 20, 20, 20, 20, 20, 20, 20, 20, 20, 20, 20, 20, 20, 20, 20, 20, 20, 20, 20, 20, 20, 20, 20, 20, 20, 20, 20, 20, 20, 20, 20, 20, 20, 20, 20, 20, 20, 20, 20, 20, 20, 20, 20, 20, 20, 20, 20, 20, 20, 20, 20, 20, 20, 20, 20, 20, 20, 20, 20, 20, 20, 20, 20, 20, 20, 20, 20, 20, 20, 20, 20, 20, 20, 20, 20, 20, 20, 20, 20, 20, 20, 20, 20, 20, 20, 20, 20]\n"
          ]
        }
      ],
      "execution_count": null
    },
    {
      "cell_type": "markdown",
      "source": [
        "![image.png](attachment:685650fb-ac18-4295-a070-ad8d146d40c3.png)"
      ],
      "metadata": {
        "id": "9FCXdhoNUILh"
      }
    },
    {
      "cell_type": "code",
      "source": [
        "#Bestum\n",
        "\n",
        "#Recursion\n",
        "def BestSum(target,l1):\n",
        "    short = None\n",
        "    if target == 0:\n",
        "        return []\n",
        "    if target < 0:\n",
        "        return None\n",
        "    for i in l1:\n",
        "        rem = target - i\n",
        "        remres= BestSum(rem,l1)\n",
        "        if remres is not None:\n",
        "            com = [*remres, i]\n",
        "            if (short == None) or (len(com) <= len(short)):\n",
        "                short = com\n",
        "\n",
        "    return short\n",
        "\n",
        "l1 = [2,3,4]\n",
        "target = 7\n",
        "res = BestSum(target,l1)\n",
        "print(res)\n"
      ],
      "metadata": {
        "trusted": true,
        "id": "jPa-1Xq4UILh",
        "outputId": "9d9f1acf-c3e2-4b3f-c3ea-6520fd2b9dd9",
        "colab": {
          "base_uri": "https://localhost:8080/"
        }
      },
      "outputs": [
        {
          "output_type": "stream",
          "name": "stdout",
          "text": [
            "[3, 4]\n"
          ]
        }
      ],
      "execution_count": null
    },
    {
      "cell_type": "markdown",
      "source": [
        "![image.png](attachment:9c5dcd37-8b4d-468b-ab7f-05a085a4188c.png)"
      ],
      "metadata": {
        "id": "VdKJQG8jUILi"
      }
    },
    {
      "cell_type": "code",
      "source": [
        "#Bestum\n",
        "h={}\n",
        "#Recursion and DP\n",
        "def BestSum(target,l1):\n",
        "    if (target, tuple(l1)) in h:\n",
        "        return h[target, tuple(l1)]\n",
        "\n",
        "    short = None\n",
        "    if target == 0:\n",
        "        return []\n",
        "    if target < 0:\n",
        "        return None\n",
        "    for i in l1:\n",
        "        rem = target - i\n",
        "        remres= BestSum(rem,l1)\n",
        "        if remres is not None:\n",
        "            com = [*remres, i]\n",
        "            if (short == None) or (len(com) <= len(short)):\n",
        "                short = com\n",
        "    h[target, tuple(l1)] = short\n",
        "    return short\n",
        "\n",
        "l1 = [2,3,4]\n",
        "target = 7\n",
        "res = BestSum(target,l1)\n",
        "print(res)"
      ],
      "metadata": {
        "trusted": true,
        "id": "35ojIpq1UILi",
        "outputId": "d395c4a5-254f-4b01-a5f7-05da4b84d551",
        "colab": {
          "base_uri": "https://localhost:8080/"
        }
      },
      "outputs": [
        {
          "output_type": "stream",
          "name": "stdout",
          "text": [
            "[3, 4]\n"
          ]
        }
      ],
      "execution_count": null
    },
    {
      "cell_type": "markdown",
      "source": [
        "![image.png](attachment:ec5906d7-93b4-4ca9-9376-220ebe9465f9.png)"
      ],
      "metadata": {
        "id": "bfoxYphSUILj"
      }
    },
    {
      "cell_type": "markdown",
      "source": [
        "![image.png](attachment:1daefb0a-3aa7-452c-8c2b-f7901ceaf05f.png)"
      ],
      "metadata": {
        "id": "CF0upkjFUILj"
      }
    },
    {
      "cell_type": "code",
      "source": [
        "#can Construct\n",
        "\n",
        "#Recursion\n",
        "def canConstruct(target,string):\n",
        "\n",
        "    if target == '':\n",
        "        return True\n",
        "\n",
        "    for s in string:\n",
        "        if target.startswith(s):\n",
        "            suffix = target[len(s):]\n",
        "            if canConstruct(suffix,string) == True:\n",
        "                return True\n",
        "\n",
        "    return False\n",
        "\n",
        "string = ['ab','abc','cd','def','abcd']\n",
        "target = 'abcdef'\n",
        "res = canConstruct(target,string)\n",
        "print(res)"
      ],
      "metadata": {
        "trusted": true,
        "id": "vCVxjsolUILj",
        "outputId": "6f1a4bf1-60e5-47df-b4ff-02ef3e1edc26",
        "colab": {
          "base_uri": "https://localhost:8080/"
        }
      },
      "outputs": [
        {
          "output_type": "stream",
          "name": "stdout",
          "text": [
            "True\n"
          ]
        }
      ],
      "execution_count": null
    },
    {
      "cell_type": "code",
      "source": [
        "#can Construct\n",
        "\n",
        "#Recursion  DP\n",
        "h={}\n",
        "\n",
        "def canConstruct(target,string):\n",
        "    if (target) in h:\n",
        "        return h[target]\n",
        "    if target == '':\n",
        "        return True\n",
        "\n",
        "    for s in string:\n",
        "        if target.startswith(s):\n",
        "            suffix = target[len(s):]\n",
        "            if canConstruct(suffix,string) == True:\n",
        "                h[target] = True\n",
        "                return True\n",
        "\n",
        "    return False\n",
        "\n",
        "string = ['ab','abc','cd','def','abcd']\n",
        "target = 'abcdef'\n",
        "res = canConstruct(target,string)\n",
        "print(res)"
      ],
      "metadata": {
        "trusted": true,
        "id": "xQJEo4pAUILk",
        "outputId": "2a77a010-f8da-475a-db4b-f15117af792c",
        "colab": {
          "base_uri": "https://localhost:8080/"
        }
      },
      "outputs": [
        {
          "output_type": "stream",
          "name": "stdout",
          "text": [
            "True\n"
          ]
        }
      ],
      "execution_count": null
    },
    {
      "cell_type": "markdown",
      "source": [
        "![image.png](attachment:77d3177d-c51c-40ba-b396-b8080118a399.png)"
      ],
      "metadata": {
        "id": "2i0X1H4rUILk"
      }
    },
    {
      "cell_type": "markdown",
      "source": [
        "![image.png](attachment:ea49a9e7-43ea-443e-900f-d95bb72a089f.png)"
      ],
      "metadata": {
        "id": "npO1GodFUILk"
      }
    },
    {
      "cell_type": "markdown",
      "source": [
        "![image.png](attachment:71d326ac-1740-40f5-896a-499fd8141290.png)"
      ],
      "metadata": {
        "id": "AESbK-CAUILk"
      }
    },
    {
      "cell_type": "code",
      "source": [
        "#can Construct in how many ways\n",
        "\n",
        "#Recursion\n",
        "def canConstruct(target,string):\n",
        "\n",
        "    if target == '':\n",
        "        return 1\n",
        "    c=0\n",
        "    for s in string:\n",
        "        if target.startswith(s):\n",
        "            suffix = target[len(s):]\n",
        "            if canConstruct(suffix,string) == 1:\n",
        "                c+=1\n",
        "\n",
        "\n",
        "    return c\n",
        "\n",
        "string = ['ab','abc','cd','def','abcd','ef']\n",
        "target = 'abcdef'\n",
        "res = canConstruct(target,string)\n",
        "print(res)"
      ],
      "metadata": {
        "trusted": true,
        "id": "FxVWrXvTUILk",
        "outputId": "d008e65c-efc2-401a-e53b-e0821ee4ad77",
        "colab": {
          "base_uri": "https://localhost:8080/"
        }
      },
      "outputs": [
        {
          "output_type": "stream",
          "name": "stdout",
          "text": [
            "3\n"
          ]
        }
      ],
      "execution_count": null
    },
    {
      "cell_type": "code",
      "source": [
        "#can Construct in how many ways\n",
        "\n",
        "#Recursion Dp\n",
        "h={}\n",
        "def canConstruct(target,string):\n",
        "    if (target) in h:\n",
        "        return h[target]\n",
        "    if target == '':\n",
        "        return 1\n",
        "    c=0\n",
        "    for s in string:\n",
        "        if target.startswith(s):\n",
        "            suffix = target[len(s):]\n",
        "            if canConstruct(suffix,string) == 1:\n",
        "                c+=1\n",
        "                h[target]=c\n",
        "    return h[target]\n",
        "\n",
        "string = ['ab','abc','cd','def','abcd','ef']\n",
        "target = 'abcdef'\n",
        "res = canConstruct(target,string)\n",
        "print(res)"
      ],
      "metadata": {
        "trusted": true,
        "id": "vXQ7-gtfUILl",
        "outputId": "ed8876ba-4e8c-4985-8cfc-d74a742cc842",
        "colab": {
          "base_uri": "https://localhost:8080/"
        }
      },
      "outputs": [
        {
          "output_type": "stream",
          "name": "stdout",
          "text": [
            "3\n"
          ]
        }
      ],
      "execution_count": null
    },
    {
      "cell_type": "markdown",
      "source": [
        "![image.png](attachment:c9914d8b-b217-4e16-a143-0a1450dd6bb4.png)"
      ],
      "metadata": {
        "id": "alJPf3ioUILl"
      }
    },
    {
      "cell_type": "markdown",
      "source": [
        "![image.png](attachment:90c737ca-1de3-4566-8709-a8e3020fc31c.png)"
      ],
      "metadata": {
        "id": "o_FxYO9mUILl"
      }
    },
    {
      "cell_type": "markdown",
      "source": [
        "![image.png](attachment:f545e79b-f8bf-43bf-add9-a2a6437a8d36.png)"
      ],
      "metadata": {
        "id": "pMTn__c_UILl"
      }
    },
    {
      "cell_type": "code",
      "source": [
        "#allConstruct\n",
        "\n",
        "#Recursion\n",
        "def allConstruct(target,string):\n",
        "    r=[]\n",
        "    if target == '':\n",
        "        return [[]]\n",
        "\n",
        "    for s in string:\n",
        "        if target.startswith(s):\n",
        "            suffix = target[len(s):]\n",
        "            c = allConstruct(suffix,string)\n",
        "            target_ways = [[s]+way for way in c]\n",
        "            r.extend(target_ways)\n",
        "    return r\n",
        "\n",
        "string = ['ab','abc','cd','def','abcd','ef']\n",
        "target = 'abcdef'\n",
        "res = allConstruct(target,string)\n",
        "print(res)"
      ],
      "metadata": {
        "trusted": true,
        "id": "xvCSRRFnUILl",
        "outputId": "17542d58-69be-4151-ce1a-d43afde0b060",
        "colab": {
          "base_uri": "https://localhost:8080/"
        }
      },
      "outputs": [
        {
          "output_type": "stream",
          "name": "stdout",
          "text": [
            "[['ab', 'cd', 'ef'], ['abc', 'def'], ['abcd', 'ef']]\n"
          ]
        }
      ],
      "execution_count": null
    },
    {
      "cell_type": "code",
      "source": [
        "#allConstruct\n",
        "\n",
        "#Recursion and DP\n",
        "h = {}\n",
        "def allConstruct(target,string):\n",
        "    r=[]\n",
        "    if target in h:\n",
        "        return h[target]\n",
        "    if target == '':\n",
        "        return [[]]\n",
        "\n",
        "    for s in string:\n",
        "        if target.startswith(s):\n",
        "            suffix = target[len(s):]\n",
        "            c = allConstruct(suffix,string)\n",
        "            target_ways = [[s]+way for way in c]\n",
        "            r.extend(target_ways)\n",
        "    h[target]=r\n",
        "    return h[target]\n",
        "\n",
        "string = ['ab','abc','cd','def','abcd','ef']\n",
        "target = 'abcdef'\n",
        "res = allConstruct(target,string)\n",
        "print(res)"
      ],
      "metadata": {
        "trusted": true,
        "id": "TVd-zkwnUILm",
        "outputId": "8d4aa7a9-8592-471e-eada-b8e629cea66c",
        "colab": {
          "base_uri": "https://localhost:8080/"
        }
      },
      "outputs": [
        {
          "output_type": "stream",
          "name": "stdout",
          "text": [
            "[['ab', 'cd', 'ef'], ['abc', 'def'], ['abcd', 'ef']]\n"
          ]
        }
      ],
      "execution_count": null
    },
    {
      "cell_type": "markdown",
      "source": [
        "### Tabulation"
      ],
      "metadata": {
        "id": "ntjpfVJUUILm"
      }
    },
    {
      "cell_type": "code",
      "source": [
        "def fib(n):\n",
        "    res = [0]*(n+1)\n",
        "    res[1]=1\n",
        "    for i in range(n):\n",
        "        res[i+1] += res[i]\n",
        "        if res[i+1]<n:\n",
        "            res[i+2] += res[i]\n",
        "    return res\n",
        "print(fib(6))"
      ],
      "metadata": {
        "trusted": true,
        "id": "rJfCfdDqUILm",
        "outputId": "50a03766-7cbe-4d1f-dfdc-94803b817bca",
        "colab": {
          "base_uri": "https://localhost:8080/"
        }
      },
      "outputs": [
        {
          "output_type": "stream",
          "name": "stdout",
          "text": [
            "[0, 1, 1, 2, 3, 5, 8]\n"
          ]
        }
      ],
      "execution_count": null
    },
    {
      "cell_type": "markdown",
      "source": [
        "![image.png](attachment:285c53f9-9690-4a61-b144-233b17c7ad5f.png)"
      ],
      "metadata": {
        "id": "tgphhroDUILm"
      }
    },
    {
      "cell_type": "code",
      "source": [
        "def gridtraveller(m,n):\n",
        "    table = [[0]*(n+1) for _ in range (m+1)]\n",
        "    table[1][1] = 1\n",
        "    for i in range(m+1):\n",
        "        for j in range(n+1):\n",
        "            c=table[i][j]\n",
        "            if (i+1)<m + 1:\n",
        "                table[i+1][j]+=c\n",
        "            if (j+1)<n +1:\n",
        "                table[i][j+1]+=c\n",
        "    return table[m][n]\n",
        "\n",
        "print(gridtraveller(3,3))"
      ],
      "metadata": {
        "trusted": true,
        "id": "bMLfIPAiUILn",
        "outputId": "3a0e6909-d239-41db-c1a9-13197124afa0",
        "colab": {
          "base_uri": "https://localhost:8080/"
        }
      },
      "outputs": [
        {
          "output_type": "stream",
          "name": "stdout",
          "text": [
            "6\n"
          ]
        }
      ],
      "execution_count": null
    },
    {
      "cell_type": "code",
      "source": [
        "#Tabulation\n",
        "\n",
        "def cansum(target,l1):\n",
        "    table = [False]*(target+1)\n",
        "    table[0] = True\n",
        "    for i in range(target + 1):\n",
        "      if table[i]==True:\n",
        "        for n in l1:\n",
        "          if (n+i)<=target:\n",
        "            table[n+i]=True\n",
        "    return table[target]\n",
        "\n",
        "\n",
        "print(cansum(7,[2,4]))\n"
      ],
      "metadata": {
        "trusted": true,
        "id": "kvw3fU8gUILn",
        "colab": {
          "base_uri": "https://localhost:8080/"
        },
        "outputId": "57468233-a43e-4167-912e-4662916858b3"
      },
      "outputs": [
        {
          "output_type": "stream",
          "name": "stdout",
          "text": [
            "False\n"
          ]
        }
      ],
      "execution_count": null
    },
    {
      "cell_type": "code",
      "source": [
        "def HowSum(target,l1):\n",
        "    table = [None]*(target+1)\n",
        "    table[0] = []\n",
        "    for i in range(target + 1):\n",
        "      if table[i]!=None:\n",
        "        for n in l1:\n",
        "          if (n+i)<=target:\n",
        "            table[n+i]=[*table[i],n]\n",
        "    return table[target]\n",
        "\n",
        "l1 = [2,3]\n",
        "target = 7\n",
        "res = HowSum(target,l1)\n",
        "print(res)"
      ],
      "metadata": {
        "colab": {
          "base_uri": "https://localhost:8080/"
        },
        "id": "9cOtzIsNVfZm",
        "outputId": "88d3eb72-075b-48f2-b7fa-5a9a1ded9dc0"
      },
      "execution_count": null,
      "outputs": [
        {
          "output_type": "stream",
          "name": "stdout",
          "text": [
            "[3, 2, 2]\n"
          ]
        }
      ]
    },
    {
      "cell_type": "code",
      "source": [
        "def BestSum(target,l1):\n",
        "    table = [None]*(target+1)\n",
        "    table[0] = []\n",
        "\n",
        "    for i in range(target + 1):\n",
        "      if table[i]!=None:\n",
        "        for n in l1:\n",
        "          if (n+i)<=target:\n",
        "\n",
        "            comb = [*table[i],n]\n",
        "            if not table[i+n] or len(table[i+n])> len(comb):\n",
        "              table[i+n] = comb\n",
        "\n",
        "    return table[target]\n",
        "\n",
        "l1 = [1,2,5,25]\n",
        "target = 100\n",
        "res = BestSum(target,l1)\n",
        "print(res)"
      ],
      "metadata": {
        "colab": {
          "base_uri": "https://localhost:8080/"
        },
        "id": "O_UsJMhhZsuu",
        "outputId": "59f1af06-4fbc-4dba-9f5e-4d1f8f4fa861"
      },
      "execution_count": null,
      "outputs": [
        {
          "output_type": "stream",
          "name": "stdout",
          "text": [
            "[25, 25, 25, 25]\n"
          ]
        }
      ]
    },
    {
      "cell_type": "code",
      "source": [
        "def can_construct(target, string):\n",
        "    table = [False] * (len(target) + 1)\n",
        "    table[0] = True\n",
        "\n",
        "    for i in range(len(target) + 1):\n",
        "        if table[i]:\n",
        "            for s in string:\n",
        "                if i + len(s) <= len(target) and target[i:i + len(s)] == s:\n",
        "                    table[i + len(s)] = True\n",
        "\n",
        "    return table[len(target)]\n",
        "\n",
        "# Example usage:\n",
        "target_example = \"abcdef\"\n",
        "string_example = [\"ab\", \"abc\", \"cd\", \"def\", \"abcd\"]\n",
        "result_example = can_construct(target_example, string_example)\n",
        "print(result_example)\n"
      ],
      "metadata": {
        "colab": {
          "base_uri": "https://localhost:8080/"
        },
        "id": "nn8h4ktrbuaR",
        "outputId": "bf9916ac-8851-4e96-df09-72c66db0c759"
      },
      "execution_count": null,
      "outputs": [
        {
          "output_type": "stream",
          "name": "stdout",
          "text": [
            "True\n"
          ]
        }
      ]
    },
    {
      "cell_type": "code",
      "source": [
        "def count_construct(target, word_bank):\n",
        "    table = [0] * (len(target) + 1)\n",
        "    table[0] = 1\n",
        "    for i in range(len(target) + 1):\n",
        "        for word in word_bank:\n",
        "            if i + len(word) <= len(target) and target[i:i+len(word)] == word:\n",
        "\n",
        "                table[i + len(word)] += table[i]\n",
        "\n",
        "    return table[len(target)]\n",
        "\n",
        "target_example = \"abcdef\"\n",
        "word_bank_example = [\"ab\", \"abc\", \"cd\", \"def\", \"abcd\", 'ef']\n",
        "result_example = count_construct(target_example, word_bank_example)\n",
        "print(result_example)\n"
      ],
      "metadata": {
        "id": "Sx7IDH_1gakh",
        "colab": {
          "base_uri": "https://localhost:8080/"
        },
        "outputId": "f12d2f3b-f8e1-466b-82ea-46bfdb9e1387"
      },
      "execution_count": null,
      "outputs": [
        {
          "output_type": "stream",
          "name": "stdout",
          "text": [
            "3\n"
          ]
        }
      ]
    },
    {
      "cell_type": "code",
      "source": [],
      "metadata": {
        "id": "faAOt1bYpvcv"
      },
      "execution_count": null,
      "outputs": []
    }
  ]
}